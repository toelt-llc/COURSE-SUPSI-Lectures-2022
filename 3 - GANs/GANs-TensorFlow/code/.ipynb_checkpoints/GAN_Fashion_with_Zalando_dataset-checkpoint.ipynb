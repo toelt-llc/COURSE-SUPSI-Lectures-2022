{
 "cells": [
  {
   "cell_type": "markdown",
   "id": "aa46bad1-4d77-4095-8635-7a1a23394732",
   "metadata": {},
   "source": [
    "# GAN Example in TensorFlow (Zalando Dataset)\n",
    "\n",
    "Author: Umberto Michelucci\n",
    "\n",
    "Version: 1.0"
   ]
  },
  {
   "cell_type": "markdown",
   "id": "431073f3-a958-497f-9797-9ec38d77b99f",
   "metadata": {},
   "source": [
    "**WARNING**: Note that training GANs requires lots of computational power. It means that is good if you can run the following code on a machine with GPUs. To give you an idea about the differences you have\n",
    "\n",
    "- On a MACBook Pro 2019 with 32 Gb memory and an i7 an epoch will take roughly 1.5-1.6 minutes\n",
    "- On Google Colab with GPU enabled roughly 30 sec\n",
    "- On a dedicated deep learning server with 3 NVIDIA RTX A6000 one epoch takes roughly 5-8 seconds."
   ]
  },
  {
   "cell_type": "code",
   "execution_count": 2,
   "id": "8d6a48b5-d1bc-4475-b596-7af67bf83ca0",
   "metadata": {},
   "outputs": [
    {
     "name": "stdout",
     "output_type": "stream",
     "text": [
      "Sat May 28 15:07:39 2022       \n",
      "+-----------------------------------------------------------------------------+\n",
      "| NVIDIA-SMI 470.129.06   Driver Version: 470.129.06   CUDA Version: 11.4     |\n",
      "|-------------------------------+----------------------+----------------------+\n",
      "| GPU  Name        Persistence-M| Bus-Id        Disp.A | Volatile Uncorr. ECC |\n",
      "| Fan  Temp  Perf  Pwr:Usage/Cap|         Memory-Usage | GPU-Util  Compute M. |\n",
      "|                               |                      |               MIG M. |\n",
      "|===============================+======================+======================|\n",
      "|   0  NVIDIA RTX A6000    Off  | 00000000:19:00.0 Off |                  Off |\n",
      "|100%   81C    P2   299W / 300W |   5253MiB / 48685MiB |    100%      Default |\n",
      "|                               |                      |                  N/A |\n",
      "+-------------------------------+----------------------+----------------------+\n",
      "|   1  NVIDIA RTX A6000    Off  | 00000000:1B:00.0 Off |                  Off |\n",
      "|100%   88C    P2   188W / 300W |   5253MiB / 48685MiB |    100%      Default |\n",
      "|                               |                      |                  N/A |\n",
      "+-------------------------------+----------------------+----------------------+\n",
      "|   2  NVIDIA RTX A6000    Off  | 00000000:68:00.0 Off |                  Off |\n",
      "|100%   85C    P2   289W / 300W |   5441MiB / 48682MiB |    100%      Default |\n",
      "|                               |                      |                  N/A |\n",
      "+-------------------------------+----------------------+----------------------+\n",
      "                                                                               \n",
      "+-----------------------------------------------------------------------------+\n",
      "| Processes:                                                                  |\n",
      "|  GPU   GI   CI        PID   Type   Process name                  GPU Memory |\n",
      "|        ID   ID                                                   Usage      |\n",
      "|=============================================================================|\n",
      "|    0   N/A  N/A      1267      G   /usr/lib/xorg/Xorg                  4MiB |\n",
      "|    0   N/A  N/A     88325      C   ...Documents/misc/trex/t-rex     5245MiB |\n",
      "|    1   N/A  N/A      1267      G   /usr/lib/xorg/Xorg                  4MiB |\n",
      "|    1   N/A  N/A     88325      C   ...Documents/misc/trex/t-rex     5245MiB |\n",
      "|    2   N/A  N/A      1267      G   /usr/lib/xorg/Xorg                183MiB |\n",
      "|    2   N/A  N/A      1543      G   /usr/bin/gnome-shell                9MiB |\n",
      "|    2   N/A  N/A     88325      C   ...Documents/misc/trex/t-rex     5245MiB |\n",
      "+-----------------------------------------------------------------------------+\n"
     ]
    }
   ],
   "source": [
    "!nvidia-smi"
   ]
  },
  {
   "cell_type": "code",
   "execution_count": 20,
   "id": "26380b17-eb8a-4cf4-91a3-4ea2d4ed3117",
   "metadata": {},
   "outputs": [],
   "source": [
    "# example of training an unconditional gan on the fashion mnist dataset\n",
    "from numpy import expand_dims\n",
    "from numpy import zeros\n",
    "from numpy import ones\n",
    "from numpy.random import randn\n",
    "from numpy.random import randint\n",
    "from tensorflow.keras.datasets.fashion_mnist import load_data\n",
    "from tensorflow.keras.optimizers import Adam\n",
    "from tensorflow.keras.models import Sequential\n",
    "from tensorflow.keras.layers import Dense\n",
    "from tensorflow.keras.layers import Reshape\n",
    "from tensorflow.keras.layers import Flatten\n",
    "from tensorflow.keras.layers import Conv2D\n",
    "from tensorflow.keras.layers import Conv2DTranspose\n",
    "from tensorflow.keras.layers import LeakyReLU\n",
    "from tensorflow.keras.layers import Dropout\n",
    "import tensorflow as tf\n",
    "import matplotlib.pyplot as plt"
   ]
  },
  {
   "cell_type": "code",
   "execution_count": 4,
   "id": "605a2f1c-0b55-4b4e-a33c-6314a1326ca8",
   "metadata": {},
   "outputs": [],
   "source": [
    "# define the standalone discriminator model\n",
    "def define_discriminator(in_shape=(28,28,1)):\n",
    "    model = Sequential()\n",
    "    # downsample\n",
    "    model.add(Conv2D(128, (3,3), strides=(2,2), padding='same', input_shape=in_shape))\n",
    "    model.add(LeakyReLU(alpha=0.2))\n",
    "    # downsample\n",
    "    model.add(Conv2D(128, (3,3), strides=(2,2), padding='same'))\n",
    "    model.add(LeakyReLU(alpha=0.2))\n",
    "    # classifier\n",
    "    model.add(Flatten())\n",
    "    model.add(Dropout(0.4))\n",
    "    model.add(Dense(1, activation='sigmoid'))\n",
    "    # compile model\n",
    "    opt = Adam(lr=0.0002, beta_1=0.5)\n",
    "    model.compile(loss='binary_crossentropy', optimizer=opt, metrics=['accuracy'])\n",
    "    return model"
   ]
  },
  {
   "cell_type": "code",
   "execution_count": 5,
   "id": "55f88b40-1653-48d4-b763-e29d0f7203c3",
   "metadata": {},
   "outputs": [],
   "source": [
    "# define the standalone generator model\n",
    "def define_generator(latent_dim):\n",
    "    model = Sequential()\n",
    "    # foundation for 7x7 image\n",
    "    n_nodes = 128 * 7 * 7\n",
    "    model.add(Dense(n_nodes, input_dim=latent_dim))\n",
    "    model.add(LeakyReLU(alpha=0.2))\n",
    "    model.add(Reshape((7, 7, 128)))\n",
    "    # upsample to 14x14\n",
    "    model.add(Conv2DTranspose(128, (4,4), strides=(2,2), padding='same'))\n",
    "    model.add(LeakyReLU(alpha=0.2))\n",
    "    # upsample to 28x28\n",
    "    model.add(Conv2DTranspose(128, (4,4), strides=(2,2), padding='same'))\n",
    "    model.add(LeakyReLU(alpha=0.2))\n",
    "    # generate\n",
    "    model.add(Conv2D(1, (7,7), activation='tanh', padding='same'))\n",
    "    return model"
   ]
  },
  {
   "cell_type": "code",
   "execution_count": 6,
   "id": "f8969c3c-2a4a-4699-b50b-a36856d5522f",
   "metadata": {},
   "outputs": [],
   "source": [
    "# define the combined generator and discriminator model, for updating the generator\n",
    "def define_gan(generator, discriminator):\n",
    "    # make weights in the discriminator not trainable\n",
    "    discriminator.trainable = False\n",
    "    # connect them\n",
    "    model = Sequential()\n",
    "    # add generator\n",
    "    model.add(generator)\n",
    "    # add the discriminator\n",
    "    model.add(discriminator)\n",
    "    # compile model\n",
    "    opt = Adam(lr=0.0002, beta_1=0.5)\n",
    "    model.compile(loss='binary_crossentropy', optimizer=opt)\n",
    "    return model"
   ]
  },
  {
   "cell_type": "code",
   "execution_count": 7,
   "id": "37bfe685-f086-4af6-9114-b6b504b75854",
   "metadata": {},
   "outputs": [],
   "source": [
    "# load fashion mnist images\n",
    "def load_real_samples():\n",
    "    # load dataset\n",
    "    (trainX, _), (_, _) = load_data()\n",
    "    # expand to 3d, e.g. add channels\n",
    "    X = expand_dims(trainX, axis=-1)\n",
    "    # convert from ints to floats\n",
    "    X = X.astype('float32')\n",
    "    # scale from [0,255] to [-1,1]\n",
    "    X = (X - 127.5) / 127.5\n",
    "    print(\"Finished loading real samples...\")\n",
    "    return X\n",
    " \n",
    "# select real samples\n",
    "def generate_real_samples(dataset, n_samples):\n",
    "    # choose random instances\n",
    "    ix = randint(0, dataset.shape[0], n_samples)\n",
    "    # select images\n",
    "    X = dataset[ix]\n",
    "    # generate class labels\n",
    "    y = ones((n_samples, 1))\n",
    "    return X, y\n",
    " \n",
    "# generate points in latent space as input for the generator\n",
    "def generate_latent_points(latent_dim, n_samples):\n",
    "    # generate points in the latent space\n",
    "    x_input = randn(latent_dim * n_samples)\n",
    "    # reshape into a batch of inputs for the network\n",
    "    x_input = x_input.reshape(n_samples, latent_dim)\n",
    "    return x_input\n",
    " \n",
    "# use the generator to generate n fake examples, with class labels\n",
    "def generate_fake_samples(generator, latent_dim, n_samples):\n",
    "    # generate points in latent space\n",
    "    x_input = generate_latent_points(latent_dim, n_samples)\n",
    "    # predict outputs\n",
    "    X = generator.predict(x_input)\n",
    "    # create class labels\n",
    "    y = zeros((n_samples, 1))\n",
    "    return X, y\n",
    " "
   ]
  },
  {
   "cell_type": "code",
   "execution_count": 8,
   "id": "8a7aae73-a02a-4172-99fc-6e57b313b20b",
   "metadata": {},
   "outputs": [],
   "source": [
    "# train the generator and discriminator\n",
    "def train(g_model, d_model, gan_model, dataset, latent_dim, n_epochs=100, n_batch=128):\n",
    "    bat_per_epo = int(dataset.shape[0] / n_batch)\n",
    "    half_batch = int(n_batch / 2)\n",
    "    # manually enumerate epochs\n",
    "    for i in range(n_epochs):\n",
    "        print(\"Processsing epoch: \", i)\n",
    "        # enumerate batches over the training set\n",
    "        for j in range(bat_per_epo):\n",
    "            # get randomly selected 'real' samples\n",
    "            X_real, y_real = generate_real_samples(dataset, half_batch)\n",
    "            # update discriminator model weights\n",
    "            d_loss1, _ = d_model.train_on_batch(X_real, y_real)\n",
    "            # generate 'fake' examples\n",
    "            X_fake, y_fake = generate_fake_samples(g_model, latent_dim, half_batch)\n",
    "            # update discriminator model weights\n",
    "            d_loss2, _ = d_model.train_on_batch(X_fake, y_fake)\n",
    "            # prepare points in latent space as input for the generator\n",
    "            X_gan = generate_latent_points(latent_dim, n_batch)\n",
    "            # create inverted labels for the fake samples\n",
    "            y_gan = ones((n_batch, 1))\n",
    "            # update the generator via the discriminator's error\n",
    "            g_loss = gan_model.train_on_batch(X_gan, y_gan)\n",
    "            # summarize loss on this batch\n",
    "            #print('>%d, %d/%d, d1=%.3f, d2=%.3f g=%.3f' %\n",
    "            #\t(i+1, j+1, bat_per_epo, d_loss1, d_loss2, g_loss))\n",
    "                \n",
    "    # save the generator model\n",
    "    g_model.save('fashion_generator.h5')"
   ]
  },
  {
   "cell_type": "code",
   "execution_count": null,
   "id": "5c2e343e-0b74-46d5-a345-6700315ed992",
   "metadata": {},
   "outputs": [
    {
     "name": "stderr",
     "output_type": "stream",
     "text": [
      "/home/umberto/python-env/tfenv/lib/python3.8/site-packages/keras/optimizer_v2/adam.py:105: UserWarning: The `lr` argument is deprecated, use `learning_rate` instead.\n",
      "  super(Adam, self).__init__(name, **kwargs)\n"
     ]
    },
    {
     "name": "stdout",
     "output_type": "stream",
     "text": [
      "Finished loading real samples...\n",
      "Processsing epoch:  0\n",
      "Processsing epoch:  1\n",
      "Processsing epoch:  2\n"
     ]
    }
   ],
   "source": [
    "# size of the latent space\n",
    "latent_dim = 100\n",
    "# create the discriminator\n",
    "discriminator = define_discriminator()\n",
    "# create the generator\n",
    "generator = define_generator(latent_dim)\n",
    "# create the gan\n",
    "gan_model = define_gan(generator, discriminator)\n",
    "# load image data\n",
    "dataset = load_real_samples()\n",
    "# train model\n",
    "train(generator, discriminator, gan_model, dataset, latent_dim, n_epochs = 30)"
   ]
  },
  {
   "cell_type": "markdown",
   "id": "b8b46746-ffd8-4750-afb7-7a02721784d0",
   "metadata": {},
   "source": [
    "# Test the results"
   ]
  },
  {
   "cell_type": "code",
   "execution_count": null,
   "id": "e588d794-97d4-4575-91fc-63918e40254f",
   "metadata": {},
   "outputs": [],
   "source": [
    "generator = tf.keras.models.load_model('fashion_generator.h5')"
   ]
  },
  {
   "cell_type": "code",
   "execution_count": null,
   "id": "b17a3aef-d77d-4711-b40e-2d50fc68240a",
   "metadata": {},
   "outputs": [],
   "source": [
    "# This code generates each time new digits\n",
    "seed2 = tf.random.normal([16, latent_dim])\n",
    "fake_imgs,_ = generate_fake_samples(generator, latent_dim, 16)"
   ]
  },
  {
   "cell_type": "code",
   "execution_count": null,
   "id": "34039a57-dcf1-413c-94c6-2df3cc409f47",
   "metadata": {},
   "outputs": [],
   "source": [
    "fig = plt.figure(figsize=(8, 8))\n",
    "\n",
    "for i in range(16):\n",
    "    plt.subplot(4, 4, i+1)\n",
    "    plt.imshow(fake_imgs[i, :, :, 0] * 127.5 + 127.5, cmap='gray')\n",
    "    plt.axis('off')\n",
    "\n",
    "  #if ((epoch+1)%50 == 0):\n",
    "  #    plt.savefig('image_at_epoch_{:04d}.png'.format(epoch), dpi = 300)\n",
    "plt.show()"
   ]
  },
  {
   "cell_type": "code",
   "execution_count": null,
   "id": "5e17e773-decd-4ad3-a1f8-d935957c9fff",
   "metadata": {},
   "outputs": [],
   "source": []
  }
 ],
 "metadata": {
  "kernelspec": {
   "display_name": "Python 3 (ipykernel)",
   "language": "python",
   "name": "python3"
  },
  "language_info": {
   "codemirror_mode": {
    "name": "ipython",
    "version": 3
   },
   "file_extension": ".py",
   "mimetype": "text/x-python",
   "name": "python",
   "nbconvert_exporter": "python",
   "pygments_lexer": "ipython3",
   "version": "3.8.10"
  }
 },
 "nbformat": 4,
 "nbformat_minor": 5
}
